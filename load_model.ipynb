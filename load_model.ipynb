{
 "cells": [
  {
   "cell_type": "code",
   "execution_count": 1,
   "metadata": {},
   "outputs": [],
   "source": [
    "from get_datasets import get_data\n",
    "train_dataset, val_dataset, test_dataset, vocab = get_data('../dl_group_project/SentimentClassifier/')"
   ]
  },
  {
   "cell_type": "code",
   "execution_count": 2,
   "metadata": {},
   "outputs": [],
   "source": [
    "from torch.utils.data import DataLoader\n",
    "\n",
    "def sorted_collate(batch):\n",
    "    x, y = zip(*batch)\n",
    "    order = np.argsort([len(xi) for xi in x])[::-1]\n",
    "    x = [torch.LongTensor(x[i]) for i in order]\n",
    "    y = torch.stack([y[i] for i in order])[:, None]\n",
    "    return x, y\n",
    "\n",
    "test_loader = DataLoader(test_dataset, batch_size=1024, shuffle=False, collate_fn=sorted_collate)"
   ]
  },
  {
   "cell_type": "code",
   "execution_count": 3,
   "metadata": {},
   "outputs": [],
   "source": [
    "import torch\n",
    "from torch import nn\n",
    "\n",
    "class IMDbRNN(nn.Module):\n",
    "    def __init__(self, vocab_size, embedding_size, hidden_size, num_classes):\n",
    "        super().__init__()\n",
    "        self.rnn = nn.GRU(embedding_size, hidden_size)\n",
    "        self.cls = nn.Linear(hidden_size, num_classes)\n",
    "        self.emb = nn.Embedding(vocab_size, embedding_size)\n",
    "    \n",
    "    def prepare_sequence(self, x):\n",
    "        l = torch.LongTensor([len(xi) for xi in x])\n",
    "        x = torch.split_with_sizes(self.emb(torch.cat(x).to(self.emb.weight.device)), l.unbind(0))\n",
    "        x = nn.utils.rnn.pad_sequence(x, batch_first=True, padding_value=5)\n",
    "        return x, l\n",
    "    \n",
    "    def forward(self, x):\n",
    "        x, l = self.prepare_sequence(x)\n",
    "        o, h = self.rnn(torch.nn.utils.rnn.pack_padded_sequence(x, l, batch_first=True))\n",
    "        return self.cls(h[0])"
   ]
  },
  {
   "cell_type": "code",
   "execution_count": 4,
   "metadata": {},
   "outputs": [],
   "source": [
    "device = torch.device('cuda:0')\n",
    "model = IMDbRNN(2000, 32, 16, 1)\n",
    "model.to(device)\n",
    "model.load_state_dict(torch.load('simple_model.trch'))\n",
    "model.eval();"
   ]
  },
  {
   "cell_type": "code",
   "execution_count": 5,
   "metadata": {},
   "outputs": [
    {
     "data": {
      "application/vnd.jupyter.widget-view+json": {
       "model_id": "c252bf1b400d40f8a208675749abaefd",
       "version_major": 2,
       "version_minor": 0
      },
      "text/plain": [
       "HBox(children=(IntProgress(value=0, max=25), HTML(value='')))"
      ]
     },
     "metadata": {},
     "output_type": "display_data"
    },
    {
     "name": "stdout",
     "output_type": "stream",
     "text": [
      "\n"
     ]
    }
   ],
   "source": [
    "import numpy as np\n",
    "from tqdm import tqdm_notebook\n",
    "\n",
    "predictions, labels = [], []\n",
    "with torch.no_grad():\n",
    "    for x,y in tqdm_notebook(test_loader):\n",
    "        predictions.append(model(x).detach().cpu().numpy())\n",
    "        labels.append(y.detach().cpu().numpy())\n",
    "predictions = np.concatenate(predictions)\n",
    "labels = np.concatenate(labels)"
   ]
  },
  {
   "cell_type": "code",
   "execution_count": 6,
   "metadata": {},
   "outputs": [
    {
     "data": {
      "text/plain": [
       "0.9341942943999999"
      ]
     },
     "execution_count": 6,
     "metadata": {},
     "output_type": "execute_result"
    }
   ],
   "source": [
    "from sklearn.metrics import roc_auc_score\n",
    "\n",
    "roc_auc_score(labels, predictions)"
   ]
  }
 ],
 "metadata": {
  "kernelspec": {
   "display_name": "Python 3",
   "language": "python",
   "name": "python3"
  },
  "language_info": {
   "codemirror_mode": {
    "name": "ipython",
    "version": 3
   },
   "file_extension": ".py",
   "mimetype": "text/x-python",
   "name": "python",
   "nbconvert_exporter": "python",
   "pygments_lexer": "ipython3",
   "version": "3.7.4"
  }
 },
 "nbformat": 4,
 "nbformat_minor": 2
}
